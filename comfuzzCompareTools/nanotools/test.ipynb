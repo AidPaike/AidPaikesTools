{
 "cells": [
  {
   "cell_type": "code",
   "execution_count": 1,
   "metadata": {
    "collapsed": true
   },
   "outputs": [],
   "source": [
    "import pandas as pd\n",
    "import os\n",
    "import numpy as np\n",
    "from IPython.core.interactiveshell import InteractiveShell\n",
    "# from tqdm import tqdm,trange\n",
    "from tqdm import tqdm_notebook as tqdm,trange\n",
    "\n",
    "import base64\n",
    "\n",
    "InteractiveShell.ast_node_interactivity = \"all\"\n",
    "pd.set_option('display.max_rows', 5000)\n",
    "pd.set_option('display.max_columns', 5000)\n",
    "pd.set_option('max_colwidth', 1000)\n",
    "np.set_printoptions(threshold=np.inf)"
   ]
  },
  {
   "cell_type": "markdown",
   "source": [],
   "metadata": {
    "collapsed": false
   }
  },
  {
   "cell_type": "code",
   "execution_count": 2,
   "outputs": [],
   "source": [
    "def filesNumber(file_path):\n",
    "    '''\n",
    "    input: 需要查看文件数量的路径\n",
    "    output: 文件夹内有多少个文件\n",
    "    '''\n",
    "    count = 0\n",
    "    for file in os.listdir(file_path):  # file 表示的是文件名\n",
    "        count = count + 1\n",
    "        # print(file)\n",
    "    return count\n",
    "\n",
    "# count_2021_010203 = filesNumber(file_path_2021_010203)\n",
    "#print(count_2021_010203)"
   ],
   "metadata": {
    "collapsed": false
   }
  },
  {
   "cell_type": "code",
   "execution_count": 3,
   "outputs": [],
   "source": [
    "def get_fileName(file_path):\n",
    "    '''\n",
    "    function: 返回文件夹内有多少个文件\n",
    "    input: 需要查看文件数量的路径\n",
    "    output: 文件夹内有多少个文件\n",
    "    '''\n",
    "    fileName_list = []\n",
    "    for file in os.listdir(file_path):  # file 表示的是文件名\n",
    "        fileName_list.append(file)\n",
    "    return fileName_list"
   ],
   "metadata": {
    "collapsed": false
   }
  },
  {
   "cell_type": "code",
   "execution_count": 4,
   "outputs": [],
   "source": [
    "def read_file_content(filePathName):\n",
    "    df = pd.read_csv(filePathName,\n",
    "                     usecols=['sdate', 'ip', 'host', 'type', 'subtype', 'rule', 'ruledesc', 'useragent', 'refer',\n",
    "                              'url', 'cookie', 'xff', 'parameter', 'postdata', 'matchdata', 'src_port', 'dst_port',\n",
    "                              'method'])\n",
    "    return df\n",
    "\n",
    "# df = read_file_content(file_path_2021_010203 + \"/101.132.113.110_2021-02-26.csv\")"
   ],
   "metadata": {
    "collapsed": false
   }
  },
  {
   "cell_type": "code",
   "execution_count": 5,
   "outputs": [],
   "source": [
    "def saveTocsv(df, filename):\n",
    "    '''\n",
    "    :param df: 需要保存的dataframe\n",
    "    :param filename: 保存文件名称\n",
    "    :return: 啥都不return\n",
    "    '''\n",
    "    if not os.path.exists(filename):\n",
    "        df.to_csv('./testcsv.csv', encoding='gbk', index=None)\n",
    "    else:\n",
    "        df.to_csv('./testcsv.csv', encoding='gbk', index=None, mode='a', header=False)\n",
    "    # print(\"已储存试验记录\")"
   ],
   "metadata": {
    "collapsed": false
   }
  },
  {
   "cell_type": "code",
   "execution_count": 6,
   "outputs": [],
   "source": [
    "# 定义\n",
    "file_path_2021_010203 = \"/home/jovyan/host/attacker/2021_010203/\"\n",
    "file_name_2021_010203 = \"combine_2021_010203.csv\""
   ],
   "metadata": {
    "collapsed": false
   }
  },
  {
   "cell_type": "code",
   "execution_count": 7,
   "outputs": [],
   "source": [
    "# if __name__ == '__main__':\n",
    "#     df_all = pd.DataFrame()\n",
    "#     fileName_2021_010203_list = get_fileName(file_path_2021_010203)\n",
    "#     for filename in tqdm(fileName_2021_010203_list):\n",
    "#         df = read_file_content(file_path_2021_010203 + filename)\n",
    "#         df_all = pd.concat([df_all, df])\n",
    "#         if df_all.size > 10000:\n",
    "#             try:\n",
    "#                 tmp_list = []\n",
    "#                 for value in df_all['matchdata']:\n",
    "#                     tmp_list.append(base64.b64decode(value))\n",
    "#                 df_all['matchdata'] = tmp_list\n",
    "#                 saveTocsv(df_all, file_name_2021_010203)\n",
    "#             except Exception as e:\n",
    "#                 print(e)\n",
    "#             break"
   ],
   "metadata": {
    "collapsed": false
   }
  },
  {
   "cell_type": "code",
   "execution_count": 7,
   "outputs": [],
   "source": [],
   "metadata": {
    "collapsed": false
   }
  },
  {
   "cell_type": "markdown",
   "source": [],
   "metadata": {
    "collapsed": false
   }
  },
  {
   "cell_type": "code",
   "execution_count": 8,
   "outputs": [],
   "source": [
    "## TODO\n",
    "## 1.以文件名称为目标，拆分文件名称\n",
    "## 2. 目前就是以IP为核心进行筛选\n",
    "## 3. 得分后再开始以日期为核心进行筛选"
   ],
   "metadata": {
    "collapsed": false
   }
  },
  {
   "cell_type": "code",
   "execution_count": 9,
   "outputs": [],
   "source": [
    "def decode_matchdata(dataframe):\n",
    "    for i in range(dataframe['matchdata'].size):\n",
    "        decode_matchdata = base64.b64decode(df['matchdata'][i])\n",
    "        dataframe.loc[i,\"matchdata\"] = decode_matchdata\n",
    "        return dataframe"
   ],
   "metadata": {
    "collapsed": false
   }
  },
  {
   "cell_type": "code",
   "execution_count": 10,
   "outputs": [],
   "source": [
    "All_path = \"/home/jovyan/host/attacker/\"\n",
    "for dirpath,dirnames,filenames in os.walk(All_path):\n",
    "    dirnames = [os.path.join(dirpath,filename) for filename  in  dirnames if filename.startswith(\"20\")]\n",
    "    if dirnames:\n",
    "        for dirname in dirnames:\n",
    "            for file in os.listdir(dirname):\n",
    "                filePathName = os.path.join(dirname,file)\n",
    "                df = read_file_content(filePathName)\n",
    "                df = decode_matchdata(df)\n",
    "            break\n",
    "        break\n",
    "    break"
   ],
   "metadata": {
    "collapsed": false
   }
  },
  {
   "cell_type": "code",
   "execution_count": 11,
   "outputs": [
    {
     "ename": "NameError",
     "evalue": "name 'df' is not defined",
     "output_type": "error",
     "traceback": [
      "\u001B[1;31m---------------------------------------------------------------------------\u001B[0m",
      "\u001B[1;31mNameError\u001B[0m                                 Traceback (most recent call last)",
      "Cell \u001B[1;32mIn [11], line 1\u001B[0m\n\u001B[1;32m----> 1\u001B[0m \u001B[43mdf\u001B[49m\u001B[38;5;241m.\u001B[39msize\n",
      "\u001B[1;31mNameError\u001B[0m: name 'df' is not defined"
     ]
    }
   ],
   "source": [
    "df.size"
   ],
   "metadata": {
    "collapsed": false
   }
  },
  {
   "cell_type": "code",
   "execution_count": null,
   "outputs": [],
   "source": [
    "# from tqdm import tqdm\n",
    "# import time, random\n",
    "#\n",
    "# for i in tqdm(range(10), ncols=80):\n",
    "#     time.sleep(random.random())"
   ],
   "metadata": {
    "collapsed": false
   }
  }
 ],
 "metadata": {
  "kernelspec": {
   "display_name": "Python 3",
   "language": "python",
   "name": "python3"
  },
  "language_info": {
   "codemirror_mode": {
    "name": "ipython",
    "version": 2
   },
   "file_extension": ".py",
   "mimetype": "text/x-python",
   "name": "python",
   "nbconvert_exporter": "python",
   "pygments_lexer": "ipython2",
   "version": "2.7.6"
  }
 },
 "nbformat": 4,
 "nbformat_minor": 0
}
