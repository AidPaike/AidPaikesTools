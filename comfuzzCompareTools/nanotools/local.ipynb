{
 "cells": [
  {
   "cell_type": "code",
   "execution_count": 1,
   "metadata": {
    "collapsed": true
   },
   "outputs": [],
   "source": [
    "import pandas as pd"
   ]
  },
  {
   "cell_type": "code",
   "execution_count": 2,
   "outputs": [],
   "source": [
    "Data = pd.read_csv(\"20221103_part.csv\")"
   ],
   "metadata": {
    "collapsed": false
   }
  },
  {
   "cell_type": "code",
   "execution_count": 4,
   "outputs": [
    {
     "data": {
      "text/plain": "                  sdate              ip                            domain  \\\n0   2022-11-03T20:50:15    36.152.32.92  dd59e9252567cbca9462d321ad2d232a   \n1   2022-11-03T20:50:15    36.152.32.92  649759ccbcbb748a2cbe177d170a0516   \n2   2022-11-03T20:50:23    112.6.241.97  09b1b937bdfd8001c42efc88b1a06b96   \n3   2022-11-03T20:50:23    112.6.241.97  aaf53bd75d09a3e12fc5200e238136c5   \n4   2022-11-03T20:50:23    112.6.241.97  09b1b937bdfd8001c42efc88b1a06b96   \n5   2022-11-03T20:50:23    112.6.241.97  aaf53bd75d09a3e12fc5200e238136c5   \n6   2022-11-03T20:50:24    112.6.241.97  09b1b937bdfd8001c42efc88b1a06b96   \n7   2022-11-03T20:50:24    112.6.241.97  aaf53bd75d09a3e12fc5200e238136c5   \n8   2022-11-03T20:52:43  185.170.144.46  d41d8cd98f00b204e9800998ecf8427e   \n9   2022-11-03T20:52:43  185.170.144.46  d41d8cd98f00b204e9800998ecf8427e   \n10  2022-11-03T20:55:53    36.152.32.92  dd59e9252567cbca9462d321ad2d232a   \n11  2022-11-03T20:55:53    36.152.32.92  649759ccbcbb748a2cbe177d170a0516   \n12  2022-11-03T20:56:04    36.152.32.92  dd59e9252567cbca9462d321ad2d232a   \n13  2022-11-03T20:56:04    36.152.32.92  7555f0a6ce7c39db6a6d004eb73eccfd   \n14  2022-11-03T20:57:55  104.244.75.234  d41d8cd98f00b204e9800998ecf8427e   \n15  2022-11-03T20:57:55  104.244.75.234  d41d8cd98f00b204e9800998ecf8427e   \n16  2022-11-03T20:57:58  104.244.75.234  d41d8cd98f00b204e9800998ecf8427e   \n17  2022-11-03T20:57:58  104.244.75.234  d41d8cd98f00b204e9800998ecf8427e   \n18  2022-11-03T20:52:07    36.152.32.92  dd59e9252567cbca9462d321ad2d232a   \n19  2022-11-03T20:52:07    36.152.32.92  f80a1de93e2fee49937ddfd9e353b105   \n\n                                host                     type  \\\n0   649759ccbcbb748a2cbe177d170a0516                      LFI   \n1                                 04                      LFI   \n2   aaf53bd75d09a3e12fc5200e238136c5     Common Vulnerability   \n3                                 18     Common Vulnerability   \n4   aaf53bd75d09a3e12fc5200e238136c5                  SCANNER   \n5                                 23                  SCANNER   \n6   aaf53bd75d09a3e12fc5200e238136c5                  SCANNER   \n7                                 23                  SCANNER   \n8   d41d8cd98f00b204e9800998ecf8427e    protocol invalidation   \n9                                 27    protocol invalidation   \n10  649759ccbcbb748a2cbe177d170a0516                    Other   \n11                                24                    Other   \n12  7555f0a6ce7c39db6a6d004eb73eccfd  Information Leak Attack   \n13                                13  Information Leak Attack   \n14  d41d8cd98f00b204e9800998ecf8427e    protocol invalidation   \n15                                27    protocol invalidation   \n16  d41d8cd98f00b204e9800998ecf8427e    protocol invalidation   \n17                                27    protocol invalidation   \n18  f80a1de93e2fee49937ddfd9e353b105               SQL Inject   \n19                                01               SQL Inject   \n\n                        subtype                         rule  \\\n0   Local File Inclusion Attack                       lfi_09   \n1                         04001  Local File Inclusion Attack   \n2                  Shiro Attack          Framework_shiro_005   \n3                         18067                 Shiro Attack   \n4                scanner action  scanner_with_header_sqli_03   \n5                         23007               scanner action   \n6                scanner action  scanner_with_header_sqli_03   \n7                         23007               scanner action   \n8        request line not valid     request method not valid   \n9                           002       request line not valid   \n10                        Other              others_%0D_0046   \n11                        24001                        Other   \n12       Infomation Leak Attack               Infomation_047   \n13                        13001       Infomation Leak Attack   \n14       request line not valid    parse request line failed   \n15                          002       request line not valid   \n16       request line not valid    parse request line failed   \n17                          002       request line not valid   \n18               Get SQL Inject            sqli_with_case_02   \n19                        01001               Get SQL Inject   \n\n                                             ruledesc  \\\n0               Local file include with \\x22/etc/\\x22   \n1                                              lfi_09   \n2   Apache Shiro before 1.4.2, when using the defa...   \n3                                 Framework_shiro_005   \n4                         scanner_with_header_sqli_02   \n5                         scanner_with_header_sqli_03   \n6                         scanner_with_header_sqli_02   \n7                         scanner_with_header_sqli_03   \n8                            request method not valid   \n9                            request method not valid   \n10  PHP 5.3.11/5.4.0RC2 - 'header()' HTTP Header I...   \n11                                    others_%0D_0046   \n12  information leak attack with \\x22gitignore\\x22...   \n13                                     Infomation_047   \n14                          parse request line failed   \n15                          parse request line failed   \n16                          parse request line failed   \n17                          parse request line failed   \n18                               sqli_with_case_catch   \n19                                  sqli_with_case_02   \n\n                                            useragent  \\\n0   Mozilla/5.0 (Windows NT 6.1; WOW64) AppleWebKi...   \n1               Local file include with \\x22/etc/\\x22   \n2                                         Mozilla/5.0   \n3   Apache Shiro before 1.4.2, when using the defa...   \n4                                         Mozilla/5.0   \n5                         scanner_with_header_sqli_02   \n6                                         Mozilla/5.0   \n7                         scanner_with_header_sqli_02   \n8                                                   -   \n9                            request method not valid   \n10  Mozilla/5.0 (Windows NT 6.1; WOW64) AppleWebKi...   \n11  PHP 5.3.11/5.4.0RC2 - 'header()' HTTP Header I...   \n12  Mozilla/5.0 (Windows NT 10.0) AppleWebKit/537....   \n13  information leak attack with \\x22gitignore\\x22...   \n14                                                  -   \n15                          parse request line failed   \n16                                                  -   \n17                          parse request line failed   \n18  Mozilla/5.0 (Windows NT 10.0) AppleWebKit/537....   \n19                               sqli_with_case_catch   \n\n                                                refer  ...  \\\n0   http://yizheng.yangzhou.gov.cn:80/zgyz/yizheng...  ...   \n1   Mozilla/5.0 (Windows NT 6.1; WOW64) AppleWebKi...  ...   \n2   http://www.fio.org.cn/include/phpMyAdmin/inclu...  ...   \n3                                         Mozilla/5.0  ...   \n4   http://www.fio.org.cn/js/phpmyadmin/files/phpM...  ...   \n5                                         Mozilla/5.0  ...   \n6   http://www.fio.org.cn/js/phpmyadmin/files/phpM...  ...   \n7                                         Mozilla/5.0  ...   \n8                                                   -  ...   \n9                                                   -  ...   \n10  http://yizheng.yangzhou.gov.cn:80/zgyz/yzjq/20...  ...   \n11  Mozilla/5.0 (Windows NT 6.1; WOW64) AppleWebKi...  ...   \n12                                                  -  ...   \n13  Mozilla/5.0 (Windows NT 10.0) AppleWebKit/537....  ...   \n14                                                  -  ...   \n15                                                  -  ...   \n16                                                  -  ...   \n17                                                  -  ...   \n18  http://rd.yangzhou.gov.cn/qtyy/FT/mtgsss.jsp?W...  ...   \n19  Mozilla/5.0 (Windows NT 10.0) AppleWebKit/537....  ...   \n\n                                city province country starttime atdid  \\\n0                                NaN      NaN     NaN       0.0   0.0   \n1   dd59e9252567cbca9462d321ad2d232a      NaN     NaN       NaN   NaN   \n2                                NaN      NaN     NaN       0.0   0.0   \n3   09b1b937bdfd8001c42efc88b1a06b96      NaN     NaN       NaN   NaN   \n4                                NaN      NaN     NaN       0.0   0.0   \n5   09b1b937bdfd8001c42efc88b1a06b96      NaN     NaN       NaN   NaN   \n6                                NaN      NaN     NaN       0.0   0.0   \n7   09b1b937bdfd8001c42efc88b1a06b96      NaN     NaN       NaN   NaN   \n8                                NaN      NaN     NaN       0.0   0.0   \n9                                NaN      NaN     NaN       NaN   NaN   \n10                               NaN      NaN     NaN       0.0   0.0   \n11  dd59e9252567cbca9462d321ad2d232a      NaN     NaN       NaN   NaN   \n12                               NaN      NaN     NaN       0.0   0.0   \n13  dd59e9252567cbca9462d321ad2d232a      NaN     NaN       NaN   NaN   \n14                               NaN      NaN     NaN       0.0   0.0   \n15                               NaN      NaN     NaN       NaN   NaN   \n16                               NaN      NaN     NaN       0.0   0.0   \n17                               NaN      NaN     NaN       NaN   NaN   \n18                               NaN      NaN     NaN       0.0   0.0   \n19  dd59e9252567cbca9462d321ad2d232a      NaN     NaN       NaN   NaN   \n\n   newlog_time  typeid subtypeid    platform                           eventid  \n0   2022-11-03     4.0      4001        anyu     1249-1667508614.43-w-waf07yzm  \n1          NaN     NaN         0           0                        2022-11-03  \n2   2022-11-03    18.0     18067        anyu     1249-1667508623.65-w-waf05yzm  \n3          NaN     NaN         0           0                        2022-11-03  \n4   2022-11-03    23.0     23007        anyu    1249-1667508623.697-w-waf05yzm  \n5          NaN     NaN         0           0                        2022-11-03  \n6   2022-11-03    23.0     23007        anyu    1249-1667508624.119-w-waf05yzm  \n7          NaN     NaN         0           0                        2022-11-03  \n8   2022-11-03    27.0         2         NaN   1249-1667508763.379-w-waf03tjgt  \n9          NaN     0.0         0  2022-11-03  d41d8cd98f00b204e9800998ecf8427e  \n10  2022-11-03    24.0     24001        anyu    1249-1667508953.576-w-waf07yzm  \n11         NaN     NaN         0           0                        2022-11-03  \n12  2022-11-03    13.0     13001        anyu    1249-1667508964.414-w-waf07yzm  \n13         NaN     NaN         0           0                        2022-11-03  \n14  2022-11-03    27.0         2         NaN         1249-1667509074.911-s4jhg  \n15         NaN     0.0         0  2022-11-03  d41d8cd98f00b204e9800998ecf8427e  \n16  2022-11-03    27.0         2         NaN         1249-1667509078.584-s4jhg  \n17         NaN     0.0         0  2022-11-03  d41d8cd98f00b204e9800998ecf8427e  \n18  2022-11-03     1.0      1001        anyu    1249-1667508726.979-w-waf07yzm  \n19         NaN     NaN         0           0                        2022-11-03  \n\n[20 rows x 37 columns]",
      "text/html": "<div>\n<style scoped>\n    .dataframe tbody tr th:only-of-type {\n        vertical-align: middle;\n    }\n\n    .dataframe tbody tr th {\n        vertical-align: top;\n    }\n\n    .dataframe thead th {\n        text-align: right;\n    }\n</style>\n<table border=\"1\" class=\"dataframe\">\n  <thead>\n    <tr style=\"text-align: right;\">\n      <th></th>\n      <th>sdate</th>\n      <th>ip</th>\n      <th>domain</th>\n      <th>host</th>\n      <th>type</th>\n      <th>subtype</th>\n      <th>rule</th>\n      <th>ruledesc</th>\n      <th>useragent</th>\n      <th>refer</th>\n      <th>...</th>\n      <th>city</th>\n      <th>province</th>\n      <th>country</th>\n      <th>starttime</th>\n      <th>atdid</th>\n      <th>newlog_time</th>\n      <th>typeid</th>\n      <th>subtypeid</th>\n      <th>platform</th>\n      <th>eventid</th>\n    </tr>\n  </thead>\n  <tbody>\n    <tr>\n      <th>0</th>\n      <td>2022-11-03T20:50:15</td>\n      <td>36.152.32.92</td>\n      <td>dd59e9252567cbca9462d321ad2d232a</td>\n      <td>649759ccbcbb748a2cbe177d170a0516</td>\n      <td>LFI</td>\n      <td>Local File Inclusion Attack</td>\n      <td>lfi_09</td>\n      <td>Local file include with \\x22/etc/\\x22</td>\n      <td>Mozilla/5.0 (Windows NT 6.1; WOW64) AppleWebKi...</td>\n      <td>http://yizheng.yangzhou.gov.cn:80/zgyz/yizheng...</td>\n      <td>...</td>\n      <td>NaN</td>\n      <td>NaN</td>\n      <td>NaN</td>\n      <td>0.0</td>\n      <td>0.0</td>\n      <td>2022-11-03</td>\n      <td>4.0</td>\n      <td>4001</td>\n      <td>anyu</td>\n      <td>1249-1667508614.43-w-waf07yzm</td>\n    </tr>\n    <tr>\n      <th>1</th>\n      <td>2022-11-03T20:50:15</td>\n      <td>36.152.32.92</td>\n      <td>649759ccbcbb748a2cbe177d170a0516</td>\n      <td>04</td>\n      <td>LFI</td>\n      <td>04001</td>\n      <td>Local File Inclusion Attack</td>\n      <td>lfi_09</td>\n      <td>Local file include with \\x22/etc/\\x22</td>\n      <td>Mozilla/5.0 (Windows NT 6.1; WOW64) AppleWebKi...</td>\n      <td>...</td>\n      <td>dd59e9252567cbca9462d321ad2d232a</td>\n      <td>NaN</td>\n      <td>NaN</td>\n      <td>NaN</td>\n      <td>NaN</td>\n      <td>NaN</td>\n      <td>NaN</td>\n      <td>0</td>\n      <td>0</td>\n      <td>2022-11-03</td>\n    </tr>\n    <tr>\n      <th>2</th>\n      <td>2022-11-03T20:50:23</td>\n      <td>112.6.241.97</td>\n      <td>09b1b937bdfd8001c42efc88b1a06b96</td>\n      <td>aaf53bd75d09a3e12fc5200e238136c5</td>\n      <td>Common Vulnerability</td>\n      <td>Shiro Attack</td>\n      <td>Framework_shiro_005</td>\n      <td>Apache Shiro before 1.4.2, when using the defa...</td>\n      <td>Mozilla/5.0</td>\n      <td>http://www.fio.org.cn/include/phpMyAdmin/inclu...</td>\n      <td>...</td>\n      <td>NaN</td>\n      <td>NaN</td>\n      <td>NaN</td>\n      <td>0.0</td>\n      <td>0.0</td>\n      <td>2022-11-03</td>\n      <td>18.0</td>\n      <td>18067</td>\n      <td>anyu</td>\n      <td>1249-1667508623.65-w-waf05yzm</td>\n    </tr>\n    <tr>\n      <th>3</th>\n      <td>2022-11-03T20:50:23</td>\n      <td>112.6.241.97</td>\n      <td>aaf53bd75d09a3e12fc5200e238136c5</td>\n      <td>18</td>\n      <td>Common Vulnerability</td>\n      <td>18067</td>\n      <td>Shiro Attack</td>\n      <td>Framework_shiro_005</td>\n      <td>Apache Shiro before 1.4.2, when using the defa...</td>\n      <td>Mozilla/5.0</td>\n      <td>...</td>\n      <td>09b1b937bdfd8001c42efc88b1a06b96</td>\n      <td>NaN</td>\n      <td>NaN</td>\n      <td>NaN</td>\n      <td>NaN</td>\n      <td>NaN</td>\n      <td>NaN</td>\n      <td>0</td>\n      <td>0</td>\n      <td>2022-11-03</td>\n    </tr>\n    <tr>\n      <th>4</th>\n      <td>2022-11-03T20:50:23</td>\n      <td>112.6.241.97</td>\n      <td>09b1b937bdfd8001c42efc88b1a06b96</td>\n      <td>aaf53bd75d09a3e12fc5200e238136c5</td>\n      <td>SCANNER</td>\n      <td>scanner action</td>\n      <td>scanner_with_header_sqli_03</td>\n      <td>scanner_with_header_sqli_02</td>\n      <td>Mozilla/5.0</td>\n      <td>http://www.fio.org.cn/js/phpmyadmin/files/phpM...</td>\n      <td>...</td>\n      <td>NaN</td>\n      <td>NaN</td>\n      <td>NaN</td>\n      <td>0.0</td>\n      <td>0.0</td>\n      <td>2022-11-03</td>\n      <td>23.0</td>\n      <td>23007</td>\n      <td>anyu</td>\n      <td>1249-1667508623.697-w-waf05yzm</td>\n    </tr>\n    <tr>\n      <th>5</th>\n      <td>2022-11-03T20:50:23</td>\n      <td>112.6.241.97</td>\n      <td>aaf53bd75d09a3e12fc5200e238136c5</td>\n      <td>23</td>\n      <td>SCANNER</td>\n      <td>23007</td>\n      <td>scanner action</td>\n      <td>scanner_with_header_sqli_03</td>\n      <td>scanner_with_header_sqli_02</td>\n      <td>Mozilla/5.0</td>\n      <td>...</td>\n      <td>09b1b937bdfd8001c42efc88b1a06b96</td>\n      <td>NaN</td>\n      <td>NaN</td>\n      <td>NaN</td>\n      <td>NaN</td>\n      <td>NaN</td>\n      <td>NaN</td>\n      <td>0</td>\n      <td>0</td>\n      <td>2022-11-03</td>\n    </tr>\n    <tr>\n      <th>6</th>\n      <td>2022-11-03T20:50:24</td>\n      <td>112.6.241.97</td>\n      <td>09b1b937bdfd8001c42efc88b1a06b96</td>\n      <td>aaf53bd75d09a3e12fc5200e238136c5</td>\n      <td>SCANNER</td>\n      <td>scanner action</td>\n      <td>scanner_with_header_sqli_03</td>\n      <td>scanner_with_header_sqli_02</td>\n      <td>Mozilla/5.0</td>\n      <td>http://www.fio.org.cn/js/phpmyadmin/files/phpM...</td>\n      <td>...</td>\n      <td>NaN</td>\n      <td>NaN</td>\n      <td>NaN</td>\n      <td>0.0</td>\n      <td>0.0</td>\n      <td>2022-11-03</td>\n      <td>23.0</td>\n      <td>23007</td>\n      <td>anyu</td>\n      <td>1249-1667508624.119-w-waf05yzm</td>\n    </tr>\n    <tr>\n      <th>7</th>\n      <td>2022-11-03T20:50:24</td>\n      <td>112.6.241.97</td>\n      <td>aaf53bd75d09a3e12fc5200e238136c5</td>\n      <td>23</td>\n      <td>SCANNER</td>\n      <td>23007</td>\n      <td>scanner action</td>\n      <td>scanner_with_header_sqli_03</td>\n      <td>scanner_with_header_sqli_02</td>\n      <td>Mozilla/5.0</td>\n      <td>...</td>\n      <td>09b1b937bdfd8001c42efc88b1a06b96</td>\n      <td>NaN</td>\n      <td>NaN</td>\n      <td>NaN</td>\n      <td>NaN</td>\n      <td>NaN</td>\n      <td>NaN</td>\n      <td>0</td>\n      <td>0</td>\n      <td>2022-11-03</td>\n    </tr>\n    <tr>\n      <th>8</th>\n      <td>2022-11-03T20:52:43</td>\n      <td>185.170.144.46</td>\n      <td>d41d8cd98f00b204e9800998ecf8427e</td>\n      <td>d41d8cd98f00b204e9800998ecf8427e</td>\n      <td>protocol invalidation</td>\n      <td>request line not valid</td>\n      <td>request method not valid</td>\n      <td>request method not valid</td>\n      <td>-</td>\n      <td>-</td>\n      <td>...</td>\n      <td>NaN</td>\n      <td>NaN</td>\n      <td>NaN</td>\n      <td>0.0</td>\n      <td>0.0</td>\n      <td>2022-11-03</td>\n      <td>27.0</td>\n      <td>2</td>\n      <td>NaN</td>\n      <td>1249-1667508763.379-w-waf03tjgt</td>\n    </tr>\n    <tr>\n      <th>9</th>\n      <td>2022-11-03T20:52:43</td>\n      <td>185.170.144.46</td>\n      <td>d41d8cd98f00b204e9800998ecf8427e</td>\n      <td>27</td>\n      <td>protocol invalidation</td>\n      <td>002</td>\n      <td>request line not valid</td>\n      <td>request method not valid</td>\n      <td>request method not valid</td>\n      <td>-</td>\n      <td>...</td>\n      <td>NaN</td>\n      <td>NaN</td>\n      <td>NaN</td>\n      <td>NaN</td>\n      <td>NaN</td>\n      <td>NaN</td>\n      <td>0.0</td>\n      <td>0</td>\n      <td>2022-11-03</td>\n      <td>d41d8cd98f00b204e9800998ecf8427e</td>\n    </tr>\n    <tr>\n      <th>10</th>\n      <td>2022-11-03T20:55:53</td>\n      <td>36.152.32.92</td>\n      <td>dd59e9252567cbca9462d321ad2d232a</td>\n      <td>649759ccbcbb748a2cbe177d170a0516</td>\n      <td>Other</td>\n      <td>Other</td>\n      <td>others_%0D_0046</td>\n      <td>PHP 5.3.11/5.4.0RC2 - 'header()' HTTP Header I...</td>\n      <td>Mozilla/5.0 (Windows NT 6.1; WOW64) AppleWebKi...</td>\n      <td>http://yizheng.yangzhou.gov.cn:80/zgyz/yzjq/20...</td>\n      <td>...</td>\n      <td>NaN</td>\n      <td>NaN</td>\n      <td>NaN</td>\n      <td>0.0</td>\n      <td>0.0</td>\n      <td>2022-11-03</td>\n      <td>24.0</td>\n      <td>24001</td>\n      <td>anyu</td>\n      <td>1249-1667508953.576-w-waf07yzm</td>\n    </tr>\n    <tr>\n      <th>11</th>\n      <td>2022-11-03T20:55:53</td>\n      <td>36.152.32.92</td>\n      <td>649759ccbcbb748a2cbe177d170a0516</td>\n      <td>24</td>\n      <td>Other</td>\n      <td>24001</td>\n      <td>Other</td>\n      <td>others_%0D_0046</td>\n      <td>PHP 5.3.11/5.4.0RC2 - 'header()' HTTP Header I...</td>\n      <td>Mozilla/5.0 (Windows NT 6.1; WOW64) AppleWebKi...</td>\n      <td>...</td>\n      <td>dd59e9252567cbca9462d321ad2d232a</td>\n      <td>NaN</td>\n      <td>NaN</td>\n      <td>NaN</td>\n      <td>NaN</td>\n      <td>NaN</td>\n      <td>NaN</td>\n      <td>0</td>\n      <td>0</td>\n      <td>2022-11-03</td>\n    </tr>\n    <tr>\n      <th>12</th>\n      <td>2022-11-03T20:56:04</td>\n      <td>36.152.32.92</td>\n      <td>dd59e9252567cbca9462d321ad2d232a</td>\n      <td>7555f0a6ce7c39db6a6d004eb73eccfd</td>\n      <td>Information Leak Attack</td>\n      <td>Infomation Leak Attack</td>\n      <td>Infomation_047</td>\n      <td>information leak attack with \\x22gitignore\\x22...</td>\n      <td>Mozilla/5.0 (Windows NT 10.0) AppleWebKit/537....</td>\n      <td>-</td>\n      <td>...</td>\n      <td>NaN</td>\n      <td>NaN</td>\n      <td>NaN</td>\n      <td>0.0</td>\n      <td>0.0</td>\n      <td>2022-11-03</td>\n      <td>13.0</td>\n      <td>13001</td>\n      <td>anyu</td>\n      <td>1249-1667508964.414-w-waf07yzm</td>\n    </tr>\n    <tr>\n      <th>13</th>\n      <td>2022-11-03T20:56:04</td>\n      <td>36.152.32.92</td>\n      <td>7555f0a6ce7c39db6a6d004eb73eccfd</td>\n      <td>13</td>\n      <td>Information Leak Attack</td>\n      <td>13001</td>\n      <td>Infomation Leak Attack</td>\n      <td>Infomation_047</td>\n      <td>information leak attack with \\x22gitignore\\x22...</td>\n      <td>Mozilla/5.0 (Windows NT 10.0) AppleWebKit/537....</td>\n      <td>...</td>\n      <td>dd59e9252567cbca9462d321ad2d232a</td>\n      <td>NaN</td>\n      <td>NaN</td>\n      <td>NaN</td>\n      <td>NaN</td>\n      <td>NaN</td>\n      <td>NaN</td>\n      <td>0</td>\n      <td>0</td>\n      <td>2022-11-03</td>\n    </tr>\n    <tr>\n      <th>14</th>\n      <td>2022-11-03T20:57:55</td>\n      <td>104.244.75.234</td>\n      <td>d41d8cd98f00b204e9800998ecf8427e</td>\n      <td>d41d8cd98f00b204e9800998ecf8427e</td>\n      <td>protocol invalidation</td>\n      <td>request line not valid</td>\n      <td>parse request line failed</td>\n      <td>parse request line failed</td>\n      <td>-</td>\n      <td>-</td>\n      <td>...</td>\n      <td>NaN</td>\n      <td>NaN</td>\n      <td>NaN</td>\n      <td>0.0</td>\n      <td>0.0</td>\n      <td>2022-11-03</td>\n      <td>27.0</td>\n      <td>2</td>\n      <td>NaN</td>\n      <td>1249-1667509074.911-s4jhg</td>\n    </tr>\n    <tr>\n      <th>15</th>\n      <td>2022-11-03T20:57:55</td>\n      <td>104.244.75.234</td>\n      <td>d41d8cd98f00b204e9800998ecf8427e</td>\n      <td>27</td>\n      <td>protocol invalidation</td>\n      <td>002</td>\n      <td>request line not valid</td>\n      <td>parse request line failed</td>\n      <td>parse request line failed</td>\n      <td>-</td>\n      <td>...</td>\n      <td>NaN</td>\n      <td>NaN</td>\n      <td>NaN</td>\n      <td>NaN</td>\n      <td>NaN</td>\n      <td>NaN</td>\n      <td>0.0</td>\n      <td>0</td>\n      <td>2022-11-03</td>\n      <td>d41d8cd98f00b204e9800998ecf8427e</td>\n    </tr>\n    <tr>\n      <th>16</th>\n      <td>2022-11-03T20:57:58</td>\n      <td>104.244.75.234</td>\n      <td>d41d8cd98f00b204e9800998ecf8427e</td>\n      <td>d41d8cd98f00b204e9800998ecf8427e</td>\n      <td>protocol invalidation</td>\n      <td>request line not valid</td>\n      <td>parse request line failed</td>\n      <td>parse request line failed</td>\n      <td>-</td>\n      <td>-</td>\n      <td>...</td>\n      <td>NaN</td>\n      <td>NaN</td>\n      <td>NaN</td>\n      <td>0.0</td>\n      <td>0.0</td>\n      <td>2022-11-03</td>\n      <td>27.0</td>\n      <td>2</td>\n      <td>NaN</td>\n      <td>1249-1667509078.584-s4jhg</td>\n    </tr>\n    <tr>\n      <th>17</th>\n      <td>2022-11-03T20:57:58</td>\n      <td>104.244.75.234</td>\n      <td>d41d8cd98f00b204e9800998ecf8427e</td>\n      <td>27</td>\n      <td>protocol invalidation</td>\n      <td>002</td>\n      <td>request line not valid</td>\n      <td>parse request line failed</td>\n      <td>parse request line failed</td>\n      <td>-</td>\n      <td>...</td>\n      <td>NaN</td>\n      <td>NaN</td>\n      <td>NaN</td>\n      <td>NaN</td>\n      <td>NaN</td>\n      <td>NaN</td>\n      <td>0.0</td>\n      <td>0</td>\n      <td>2022-11-03</td>\n      <td>d41d8cd98f00b204e9800998ecf8427e</td>\n    </tr>\n    <tr>\n      <th>18</th>\n      <td>2022-11-03T20:52:07</td>\n      <td>36.152.32.92</td>\n      <td>dd59e9252567cbca9462d321ad2d232a</td>\n      <td>f80a1de93e2fee49937ddfd9e353b105</td>\n      <td>SQL Inject</td>\n      <td>Get SQL Inject</td>\n      <td>sqli_with_case_02</td>\n      <td>sqli_with_case_catch</td>\n      <td>Mozilla/5.0 (Windows NT 10.0) AppleWebKit/537....</td>\n      <td>http://rd.yangzhou.gov.cn/qtyy/FT/mtgsss.jsp?W...</td>\n      <td>...</td>\n      <td>NaN</td>\n      <td>NaN</td>\n      <td>NaN</td>\n      <td>0.0</td>\n      <td>0.0</td>\n      <td>2022-11-03</td>\n      <td>1.0</td>\n      <td>1001</td>\n      <td>anyu</td>\n      <td>1249-1667508726.979-w-waf07yzm</td>\n    </tr>\n    <tr>\n      <th>19</th>\n      <td>2022-11-03T20:52:07</td>\n      <td>36.152.32.92</td>\n      <td>f80a1de93e2fee49937ddfd9e353b105</td>\n      <td>01</td>\n      <td>SQL Inject</td>\n      <td>01001</td>\n      <td>Get SQL Inject</td>\n      <td>sqli_with_case_02</td>\n      <td>sqli_with_case_catch</td>\n      <td>Mozilla/5.0 (Windows NT 10.0) AppleWebKit/537....</td>\n      <td>...</td>\n      <td>dd59e9252567cbca9462d321ad2d232a</td>\n      <td>NaN</td>\n      <td>NaN</td>\n      <td>NaN</td>\n      <td>NaN</td>\n      <td>NaN</td>\n      <td>NaN</td>\n      <td>0</td>\n      <td>0</td>\n      <td>2022-11-03</td>\n    </tr>\n  </tbody>\n</table>\n<p>20 rows × 37 columns</p>\n</div>"
     },
     "execution_count": 4,
     "metadata": {},
     "output_type": "execute_result"
    }
   ],
   "source": [
    "Data.head(20)"
   ],
   "metadata": {
    "collapsed": false
   }
  },
  {
   "cell_type": "code",
   "execution_count": 7,
   "outputs": [
    {
     "data": {
      "text/plain": "36.152.32.92       97982\n104.244.75.234     60842\n112.6.241.97       49516\n117.158.142.120    36532\n185.81.68.170      22242\n                   ...  \n120.32.123.254         2\n223.73.238.197         2\n61.242.130.126         2\n42.80.86.21            2\n183.197.255.21         2\nName: ip, Length: 36028, dtype: int64"
     },
     "execution_count": 7,
     "metadata": {},
     "output_type": "execute_result"
    }
   ],
   "source": [
    "Data[\"ip\"].value_counts()"
   ],
   "metadata": {
    "collapsed": false
   }
  },
  {
   "cell_type": "code",
   "execution_count": 8,
   "outputs": [
    {
     "data": {
      "text/plain": "32"
     },
     "execution_count": 8,
     "metadata": {},
     "output_type": "execute_result"
    }
   ],
   "source": [
    "len(\"dd59e9252567cbca9462d321ad2d232a\")"
   ],
   "metadata": {
    "collapsed": false
   }
  },
  {
   "cell_type": "code",
   "execution_count": 9,
   "outputs": [
    {
     "data": {
      "text/plain": "80       207666\n443      131912\n-         15936\n9180         58\n8443         58\n8080         56\n8081         42\n9000         24\n5443         14\n9898         10\n21111         8\n8089          6\n881           4\n8800          4\n1611          4\n9097          2\n10013         2\nName: dst_port, dtype: int64"
     },
     "execution_count": 9,
     "metadata": {},
     "output_type": "execute_result"
    }
   ],
   "source": [
    "Data[\"dst_port\"].value_counts()"
   ],
   "metadata": {
    "collapsed": false
   }
  },
  {
   "cell_type": "code",
   "execution_count": 10,
   "outputs": [
    {
     "data": {
      "text/plain": "protocol invalidation                                    293452\nInformation Leak Attack                                   93800\nOther                                                     63176\nCommon Vulnerability                                      46386\nBackup File Attack                                        40530\nSCANNER                                                   35724\nSQL Inject                                                27050\nLFI                                                       15470\nWEBSHELL                                                  10374\nXSS                                                        2210\nRemote Code with Expression Language Injection Attack      1040\nSystem Command Attack                                       772\nCommand Injection                                           690\nnginx attack                                                680\nCode Injection                                              642\nBase64 Detect                                               612\nUpload Webshell Attack                                      218\nRFI                                                         190\nUA                                                           96\n360webscan                                                   78\nLDAP Injection                                               68\nSensitive Check                                              38\nPHP Injection                                                16\nPhp-cgi Remote Code Exec Attack                              10\nName: type, dtype: int64"
     },
     "execution_count": 10,
     "metadata": {},
     "output_type": "execute_result"
    }
   ],
   "source": [
    "Data[\"type\"].value_counts()"
   ],
   "metadata": {
    "collapsed": false
   }
  },
  {
   "cell_type": "code",
   "execution_count": 1,
   "outputs": [
    {
     "data": {
      "text/plain": "'101.132.113.110_2021-02-26.csv'"
     },
     "execution_count": 1,
     "metadata": {},
     "output_type": "execute_result"
    }
   ],
   "source": [
    "data = \"101.132.113.110_2021-02-26.csv\"\n",
    "data"
   ],
   "metadata": {
    "collapsed": false
   }
  },
  {
   "cell_type": "code",
   "execution_count": 2,
   "outputs": [
    {
     "data": {
      "text/plain": "['101.132.113.110', '2021-02-26.csv']"
     },
     "execution_count": 2,
     "metadata": {},
     "output_type": "execute_result"
    }
   ],
   "source": [
    "data.split(\"_\")"
   ],
   "metadata": {
    "collapsed": false
   }
  },
  {
   "cell_type": "code",
   "execution_count": null,
   "outputs": [],
   "source": [],
   "metadata": {
    "collapsed": false
   }
  }
 ],
 "metadata": {
  "kernelspec": {
   "display_name": "Python 3",
   "language": "python",
   "name": "python3"
  },
  "language_info": {
   "codemirror_mode": {
    "name": "ipython",
    "version": 2
   },
   "file_extension": ".py",
   "mimetype": "text/x-python",
   "name": "python",
   "nbconvert_exporter": "python",
   "pygments_lexer": "ipython2",
   "version": "2.7.6"
  }
 },
 "nbformat": 4,
 "nbformat_minor": 0
}
